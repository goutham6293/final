{
 "cells": [
  {
   "cell_type": "markdown",
   "metadata": {},
   "source": [
    "Research Question : We are going to recommend best ML algorithm for Sentimental Anlaysis and performance evaluation like accuracy . Comparison of three ML algorithms\n",
    "\n",
    "1) Read the data set : Read the Json and convert into Dataframe using pandas\n",
    "2) Rating Column : Converting the Overal rating columns into three categories ( 0(bad), 1 (neutral), 2(Positive)\n",
    "3) Preprocessing the data : tokenize\n",
    "4) Navie Bayes Algorithm\n",
    "5) KMenas\n",
    "6) SVM \n",
    "\n",
    "conclusion : Among three ML , SVM is the best choice for this type of dataset for doing sentimental Analysis. \n",
    "Future Work : we can further include deep learnings algorithms in Sentimental Anlaysis "
   ]
  },
  {
   "cell_type": "code",
   "execution_count": 1,
   "metadata": {},
   "outputs": [
    {
     "name": "stdout",
     "output_type": "stream",
     "text": [
      "They are 40000 rows in the json file\n",
      "They are 9 columns in the json file\n"
     ]
    },
    {
     "data": {
      "text/html": [
       "<div>\n",
       "<style scoped>\n",
       "    .dataframe tbody tr th:only-of-type {\n",
       "        vertical-align: middle;\n",
       "    }\n",
       "\n",
       "    .dataframe tbody tr th {\n",
       "        vertical-align: top;\n",
       "    }\n",
       "\n",
       "    .dataframe thead th {\n",
       "        text-align: right;\n",
       "    }\n",
       "</style>\n",
       "<table border=\"1\" class=\"dataframe\">\n",
       "  <thead>\n",
       "    <tr style=\"text-align: right;\">\n",
       "      <th></th>\n",
       "      <th>reviewerID</th>\n",
       "      <th>asin</th>\n",
       "      <th>reviewerName</th>\n",
       "      <th>helpful</th>\n",
       "      <th>reviewText</th>\n",
       "      <th>overall</th>\n",
       "      <th>summary</th>\n",
       "      <th>unixReviewTime</th>\n",
       "      <th>reviewTime</th>\n",
       "    </tr>\n",
       "  </thead>\n",
       "  <tbody>\n",
       "    <tr>\n",
       "      <th>0</th>\n",
       "      <td>AO94DHGC771SJ</td>\n",
       "      <td>0528881469</td>\n",
       "      <td>amazdnu</td>\n",
       "      <td>[0, 0]</td>\n",
       "      <td>We got this GPS for my husband who is an (OTR)...</td>\n",
       "      <td>5</td>\n",
       "      <td>Gotta have GPS!</td>\n",
       "      <td>1370131200</td>\n",
       "      <td>06 2, 2013</td>\n",
       "    </tr>\n",
       "    <tr>\n",
       "      <th>1</th>\n",
       "      <td>AMO214LNFCEI4</td>\n",
       "      <td>0528881469</td>\n",
       "      <td>Amazon Customer</td>\n",
       "      <td>[12, 15]</td>\n",
       "      <td>I'm a professional OTR truck driver, and I bou...</td>\n",
       "      <td>1</td>\n",
       "      <td>Very Disappointed</td>\n",
       "      <td>1290643200</td>\n",
       "      <td>11 25, 2010</td>\n",
       "    </tr>\n",
       "    <tr>\n",
       "      <th>2</th>\n",
       "      <td>A3N7T0DY83Y4IG</td>\n",
       "      <td>0528881469</td>\n",
       "      <td>C. A. Freeman</td>\n",
       "      <td>[43, 45]</td>\n",
       "      <td>Well, what can I say.  I've had this unit in m...</td>\n",
       "      <td>3</td>\n",
       "      <td>1st impression</td>\n",
       "      <td>1283990400</td>\n",
       "      <td>09 9, 2010</td>\n",
       "    </tr>\n",
       "    <tr>\n",
       "      <th>3</th>\n",
       "      <td>A1H8PY3QHMQQA0</td>\n",
       "      <td>0528881469</td>\n",
       "      <td>Dave M. Shaw \"mack dave\"</td>\n",
       "      <td>[9, 10]</td>\n",
       "      <td>Not going to write a long review, even thought...</td>\n",
       "      <td>2</td>\n",
       "      <td>Great grafics, POOR GPS</td>\n",
       "      <td>1290556800</td>\n",
       "      <td>11 24, 2010</td>\n",
       "    </tr>\n",
       "    <tr>\n",
       "      <th>4</th>\n",
       "      <td>A24EV6RXELQZ63</td>\n",
       "      <td>0528881469</td>\n",
       "      <td>Wayne Smith</td>\n",
       "      <td>[0, 0]</td>\n",
       "      <td>I've had mine for a year and here's what we go...</td>\n",
       "      <td>1</td>\n",
       "      <td>Major issues, only excuses for support</td>\n",
       "      <td>1317254400</td>\n",
       "      <td>09 29, 2011</td>\n",
       "    </tr>\n",
       "  </tbody>\n",
       "</table>\n",
       "</div>"
      ],
      "text/plain": [
       "       reviewerID        asin              reviewerName   helpful  \\\n",
       "0   AO94DHGC771SJ  0528881469                   amazdnu    [0, 0]   \n",
       "1   AMO214LNFCEI4  0528881469           Amazon Customer  [12, 15]   \n",
       "2  A3N7T0DY83Y4IG  0528881469             C. A. Freeman  [43, 45]   \n",
       "3  A1H8PY3QHMQQA0  0528881469  Dave M. Shaw \"mack dave\"   [9, 10]   \n",
       "4  A24EV6RXELQZ63  0528881469               Wayne Smith    [0, 0]   \n",
       "\n",
       "                                          reviewText  overall  \\\n",
       "0  We got this GPS for my husband who is an (OTR)...        5   \n",
       "1  I'm a professional OTR truck driver, and I bou...        1   \n",
       "2  Well, what can I say.  I've had this unit in m...        3   \n",
       "3  Not going to write a long review, even thought...        2   \n",
       "4  I've had mine for a year and here's what we go...        1   \n",
       "\n",
       "                                  summary  unixReviewTime   reviewTime  \n",
       "0                         Gotta have GPS!      1370131200   06 2, 2013  \n",
       "1                       Very Disappointed      1290643200  11 25, 2010  \n",
       "2                          1st impression      1283990400   09 9, 2010  \n",
       "3                 Great grafics, POOR GPS      1290556800  11 24, 2010  \n",
       "4  Major issues, only excuses for support      1317254400  09 29, 2011  "
      ]
     },
     "execution_count": 1,
     "metadata": {},
     "output_type": "execute_result"
    }
   ],
   "source": [
    "#Read the Dataset \n",
    "import pandas as pd\n",
    "dataset=pd.read_json(\"reviews_Electronics_40.json\",orient=\"records\")\n",
    "#get the Data structure of the json file\n",
    "dataset_shape=dataset.shape\n",
    "print(\"They are\" ,dataset_shape[0], \"rows in the json file\")\n",
    "print(\"They are\" ,dataset_shape[1], \"columns in the json file\")\n",
    "dataset.head()"
   ]
  },
  {
   "cell_type": "code",
   "execution_count": 2,
   "metadata": {},
   "outputs": [],
   "source": [
    "#Fetching 10000 Rows from the Data Frame\n",
    "dataset=dataset[:10000]"
   ]
  },
  {
   "cell_type": "code",
   "execution_count": 3,
   "metadata": {},
   "outputs": [
    {
     "name": "stdout",
     "output_type": "stream",
     "text": [
      "There are 2 columns in the json file\n"
     ]
    },
    {
     "data": {
      "text/html": [
       "<div>\n",
       "<style scoped>\n",
       "    .dataframe tbody tr th:only-of-type {\n",
       "        vertical-align: middle;\n",
       "    }\n",
       "\n",
       "    .dataframe tbody tr th {\n",
       "        vertical-align: top;\n",
       "    }\n",
       "\n",
       "    .dataframe thead th {\n",
       "        text-align: right;\n",
       "    }\n",
       "</style>\n",
       "<table border=\"1\" class=\"dataframe\">\n",
       "  <thead>\n",
       "    <tr style=\"text-align: right;\">\n",
       "      <th></th>\n",
       "      <th>rating</th>\n",
       "      <th>review_text</th>\n",
       "    </tr>\n",
       "  </thead>\n",
       "  <tbody>\n",
       "    <tr>\n",
       "      <th>0</th>\n",
       "      <td>5</td>\n",
       "      <td>We got this GPS for my husband who is an (OTR)...</td>\n",
       "    </tr>\n",
       "    <tr>\n",
       "      <th>1</th>\n",
       "      <td>1</td>\n",
       "      <td>I'm a professional OTR truck driver, and I bou...</td>\n",
       "    </tr>\n",
       "    <tr>\n",
       "      <th>2</th>\n",
       "      <td>3</td>\n",
       "      <td>Well, what can I say.  I've had this unit in m...</td>\n",
       "    </tr>\n",
       "    <tr>\n",
       "      <th>3</th>\n",
       "      <td>2</td>\n",
       "      <td>Not going to write a long review, even thought...</td>\n",
       "    </tr>\n",
       "    <tr>\n",
       "      <th>4</th>\n",
       "      <td>1</td>\n",
       "      <td>I've had mine for a year and here's what we go...</td>\n",
       "    </tr>\n",
       "  </tbody>\n",
       "</table>\n",
       "</div>"
      ],
      "text/plain": [
       "   rating                                        review_text\n",
       "0       5  We got this GPS for my husband who is an (OTR)...\n",
       "1       1  I'm a professional OTR truck driver, and I bou...\n",
       "2       3  Well, what can I say.  I've had this unit in m...\n",
       "3       2  Not going to write a long review, even thought...\n",
       "4       1  I've had mine for a year and here's what we go..."
      ]
     },
     "execution_count": 3,
     "metadata": {},
     "output_type": "execute_result"
    }
   ],
   "source": [
    "#Fetching Overall and ReviewText Columns\n",
    "#we have two columns from main dataset , which is required to analysis the data using ML algorithms\n",
    "sensored_data=pd.DataFrame({\"rating\":dataset['overall'],\"review_text\":dataset['reviewText']});\n",
    "sesnoreddata_shape=sensored_data.shape\n",
    "print(\"There are\" ,sesnoreddata_shape[1], \"columns in the json file\")\n",
    "sensored_data.head()"
   ]
  },
  {
   "cell_type": "code",
   "execution_count": 4,
   "metadata": {
    "scrolled": false
   },
   "outputs": [],
   "source": [
    "#Grouping into three groups\n",
    "for index ,row  in sensored_data.iterrows():\n",
    "    if sensored_data.loc[index,'rating'] ==1 or sensored_data.loc[index,'rating'] ==2 :\n",
    "        sensored_data.loc[index,'rating']=0\n",
    "    elif sensored_data.loc[index,'rating'] ==4 or sensored_data.loc[index,'rating']==5 :\n",
    "          sensored_data.loc[index,'rating']=2\n",
    "    else :\n",
    "        sensored_data.loc[index,'rating']=1"
   ]
  },
  {
   "cell_type": "code",
   "execution_count": 17,
   "metadata": {},
   "outputs": [
    {
     "name": "stdout",
     "output_type": "stream",
     "text": [
      "\u001b[0mgood\u001b[0m\n",
      "polarity                     Count\n",
      "Neutral                      1022\n",
      "Negative                     1022\n",
      "Positive                     1022\n",
      "---------------------------------------------------------------------\n"
     ]
    }
   ],
   "source": [
    "data=sensored_data.rating.value_counts()\n",
    "print(\"\\033[0m\"+ \"good\" +\"\\033[0m\")\n",
    "print(\"polarity                    \",\"Count\" )\n",
    "print(\"Neutral                     \",data[0])\n",
    "print(\"Negative                    \",data[0])\n",
    "print(\"Positive                    \",data[0])\n",
    "print('---------------------------------------------------------------------')"
   ]
  },
  {
   "cell_type": "code",
   "execution_count": 25,
   "metadata": {},
   "outputs": [
    {
     "name": "stdout",
     "output_type": "stream",
     "text": [
      "frozenset({'cannot', 'behind', 'further', 'made', 'while', 'or', 'none', 'latter', 'seem', 'call', 'such', 'fifty', 'other', 'we', 'along', 'very', 'put', 'twelve', 'what', 'otherwise', 'anyhow', 'thereupon', 'where', 'hereupon', 'most', 'with', 're', 'is', 'but', 'please', 'alone', 'at', 'toward', 'mill', 'who', 'no', 'afterwards', 'fill', 'yourself', 'out', 'our', 'about', 'back', 'system', 'it', 'nobody', 'i', 'co', 'enough', 'rather', 'these', 'un', 'between', 'always', 'yourselves', 'herein', 'of', 'not', 'whither', 'was', 'ours', 'us', 'interest', 'indeed', 'done', 'became', 'found', 'during', 'them', 'had', 'mine', 'serious', 'ever', 'ten', 'five', 'everyone', 'thereafter', 'after', 'get', 'me', 'once', 'itself', 'each', 'thereby', 'here', 'hers', 'though', 'namely', 'due', 'him', 'than', 'do', 'be', 'above', 'there', 'describe', 'cant', 'hereafter', 'even', 'upon', 'whereby', 'either', 'yours', 'whoever', 'first', 'full', 'herself', 'whole', 'myself', 'therefore', 'through', 'nothing', 'his', 'any', 'its', 'same', 'hence', 'per', 'many', 'they', 'more', 'their', 'top', 'nowhere', 'below', 'which', 'since', 'forty', 'move', 'latterly', 'every', 'ourselves', 'he', 'however', 'mostly', 'whereupon', 'former', 'already', 'something', 'fire', 'therein', 'without', 'beforehand', 'whereas', 'except', 'to', 'would', 'can', 'almost', 'thin', 'beyond', 'anyway', 'then', 'onto', 'everywhere', 'others', 'give', 'see', 'throughout', 'several', 'although', 'seemed', 'now', 'empty', 'inc', 'this', 'under', 'twenty', 'amoungst', 'becomes', 'whereafter', 'thru', 'among', 'wherein', 'in', 'up', 'con', 'you', 'towards', 'both', 'de', 'as', 'wherever', 'least', 'next', 'your', 'nevertheless', 'off', 'part', 'amount', 'couldnt', 'fifteen', 'those', 'cry', 'neither', 'that', 'everything', 'whatever', 'because', 'hereby', 'into', 'still', 'eleven', 'formerly', 'whose', 'by', 'thus', 'within', 'side', 'will', 'bill', 'she', 'last', 'front', 'yet', 'thick', 'some', 'thence', 'must', 'name', 'sincere', 'when', 'show', 'sixty', 'whenever', 'until', 'elsewhere', 'might', 'etc', 'why', 'sometime', 'often', 'the', 'three', 'noone', 'via', 'four', 'much', 'take', 'hundred', 'else', 'whom', 'for', 'from', 'moreover', 'amongst', 'besides', 'so', 'perhaps', 'become', 'around', 'ie', 'my', 'down', 'meanwhile', 'third', 'all', 'are', 'should', 'themselves', 'anything', 'detail', 'own', 'together', 'anyone', 'never', 'how', 'against', 'beside', 'too', 'somewhere', 'been', 'on', 'whence', 'becoming', 'hasnt', 'nine', 'and', 'six', 'across', 'less', 'well', 'over', 'sometimes', 'somehow', 'only', 'eg', 'may', 'anywhere', 'also', 'an', 'keep', 'whether', 'find', 'have', 'could', 'a', 'someone', 'go', 'himself', 'ltd', 'seeming', 'seems', 'were', 'bottom', 'few', 'another', 'if', 'nor', 'her', 'before', 'one', 'being', 'two', 'has', 'again', 'am', 'eight'})\n"
     ]
    }
   ],
   "source": [
    "#Data Cleaning\n",
    "from sklearn.feature_extraction.text import CountVectorizer\n",
    "from sklearn.feature_extraction import text\n",
    "from nltk.tokenize import RegexpTokenizer\n",
    "\n",
    "#Tokenize the Text (removing special characters etc.,)\n",
    "token = RegexpTokenizer(r'[a-zA-Z0-9]+')\n",
    "\n",
    "\n",
    "#Printing Stop Words\n",
    "print(text.ENGLISH_STOP_WORDS)\n",
    "\n",
    "#Vectorising the Tokenize text \n",
    "cv = CountVectorizer(stop_words='english',ngram_range = (1,2),tokenizer = token.tokenize)\n",
    "\n",
    "#fitting into the dataset \n",
    "text_counts = cv.fit_transform(sensored_data['review_text'])"
   ]
  },
  {
   "cell_type": "code",
   "execution_count": 27,
   "metadata": {},
   "outputs": [],
   "source": [
    "#Dividing the dataset into Training and Test data\n",
    "from sklearn.model_selection import train_test_split\n",
    "\n",
    "#X_train and Y_train are the Training dataset\n",
    "#Y_train and Y_test are the Test Dataset\n",
    "X_train, X_test, Y_train, Y_test = train_test_split(text_counts, sensored_data['rating'], test_size=0.20, random_state=5)"
   ]
  },
  {
   "cell_type": "code",
   "execution_count": 72,
   "metadata": {},
   "outputs": [
    {
     "name": "stdout",
     "output_type": "stream",
     "text": [
      "[5.16931371e-18 4.18463196e-27 1.00000000e+00]\n",
      "2\n",
      "[8.18723454e-19 5.16931371e-18 7.77200204e-41 8.78921715e-10]\n"
     ]
    }
   ],
   "source": [
    "#Naive Bayes Algorithm\n",
    "import numpy as np\n",
    "from sklearn.naive_bayes import MultinomialNB\n",
    "\n",
    "#Model selection\n",
    "MNB = MultinomialNB()\n",
    "\n",
    "#Training the Model\n",
    "MNB.fit(X_train,Y_train)\n",
    "\n",
    "MNB_predict=MNB.predict_proba(X_test)\n",
    "\n",
    "print(MNB_predict[:][1])\n",
    "\n",
    "print(np.ndim(MNB_predict))\n",
    "print(MNB_predict[:4,0])"
   ]
  },
  {
   "cell_type": "code",
   "execution_count": 84,
   "metadata": {},
   "outputs": [
    {
     "name": "stdout",
     "output_type": "stream",
     "text": [
      "[ -9.36866163 -13.05754108 -13.05754108 ... -13.05754108 -13.05754108\n",
      " -13.05754108] (3, 371026)\n"
     ]
    }
   ],
   "source": [
    "MNB.feature_log_prob_\n",
    "#np.ndim(MNB.feature_log_prob_)\n",
    "\n",
    "print(MNB.feature_log_prob_[0],np.shape(MNB.feature_log_prob_))"
   ]
  },
  {
   "cell_type": "code",
   "execution_count": 87,
   "metadata": {},
   "outputs": [],
   "source": [
    "mean_0=np.mean(MNB_predict[:,0])\n",
    "std_0=np.std(MNB_predict[:,0])\n",
    "mean_1=np.mean(MNB_predict[:,1])\n",
    "std_1=np.std(MNB_predict[:,1])\n",
    "mean_2=np.mean(MNB_predict[:,2])\n",
    "std_2=np.std(MNB_predict[:,2])"
   ]
  },
  {
   "cell_type": "code",
   "execution_count": 90,
   "metadata": {},
   "outputs": [
    {
     "data": {
      "text/plain": [
       "0.013078536912272933"
      ]
     },
     "execution_count": 90,
     "metadata": {},
     "output_type": "execute_result"
    }
   ],
   "source": [
    "mean_0"
   ]
  },
  {
   "cell_type": "code",
   "execution_count": 89,
   "metadata": {},
   "outputs": [
    {
     "data": {
      "text/plain": [
       "[<matplotlib.lines.Line2D at 0x1ff8a9ac070>]"
      ]
     },
     "execution_count": 89,
     "metadata": {},
     "output_type": "execute_result"
    },
    {
     "data": {
      "image/png": "[encoded data removed]",
      "text/plain": [
       "<Figure size 432x288 with 1 Axes>"
      ]
     },
     "metadata": {
      "needs_background": "light"
     },
     "output_type": "display_data"
    }
   ],
   "source": [
    "import matplotlib.pyplot as plt\n",
    "from scipy.stats import norm\n",
    "plt.plot(MNB_predict[:,0], norm.pdf(MNB_predict[:,0], mean_0, std_0))"
   ]
  },
  {
   "cell_type": "code",
   "execution_count": null,
   "metadata": {},
   "outputs": [],
   "source": [
    "\n",
    "\n",
    "#predicting the test dataset using Naive Bayes Algorithm\n",
    "from sklearn import metrics\n",
    "\n",
    "#Predicting\n",
    "NB_predicted = MNB.predict(X_test)\n",
    "\n",
    "print('---------------------------------------------------------------------------------------------\\n')\n",
    "\n",
    "print(NB_predicted[:100])\n",
    "\n",
    "#Accuracy\n",
    "NB_accuracy_score = metrics.accuracy_score(NB_predicted, Y_test)\n",
    "print('----------------------------------------------------------------------------------------------\\n')\n",
    "print(\"Accuracy of the Naive Bayes Algorithm is\",str('{:04.2f}'.format(NB_accuracy_score*100))+'%')"
   ]
  },
  {
   "cell_type": "code",
   "execution_count": 18,
   "metadata": {},
   "outputs": [
    {
     "data": {
      "image/png": "[encoded data removed]",
      "text/plain": [
       "<Figure size 432x288 with 1 Axes>"
      ]
     },
     "metadata": {
      "needs_background": "light"
     },
     "output_type": "display_data"
    }
   ],
   "source": [
    "import pandas as pd\n",
    "import matplotlib.pyplot as plt\n",
    "dl=pd.DataFrame({\"rating\":predicted})\n",
    "count=dl.rating.value_counts()\n",
    "bar=plt.bar(['Negative','Neutral','Positive'],count.sort_index(),color='green',width=0.25)\n",
    "plt.title('Navie Bayes')\n",
    "plt.ylabel('Count')\n",
    "bar[0].set_color('r')\n",
    "bar[1].set_color('b')\n",
    "predict_proba(X)"
   ]
  },
  {
   "cell_type": "code",
   "execution_count": 73,
   "metadata": {},
   "outputs": [
    {
     "name": "stdout",
     "output_type": "stream",
     "text": [
      "7.65%\n"
     ]
    }
   ],
   "source": [
    "#Kmeans Algorithm\n",
    "from sklearn.cluster import KMeans\n",
    "from sklearn import metrics\n",
    "kmeans = KMeans(n_clusters=3, random_state=0,n_init=11).fit(X_train)\n",
    "Acc=kmeans.predict(X_test)\n",
    "accuracy_kmeans=metrics.accuracy_score(Acc,Y_test)\n",
    "print(str('{:04.2f}'.format(accuracy_kmeans*100))+'%')"
   ]
  },
  {
   "cell_type": "code",
   "execution_count": 20,
   "metadata": {},
   "outputs": [
    {
     "name": "stdout",
     "output_type": "stream",
     "text": [
      "1    1782\n",
      "0     211\n",
      "2       7\n",
      "Name: rating, dtype: int64\n"
     ]
    },
    {
     "data": {
      "image/png": "[encoded data removed]",
      "text/plain": [
       "<Figure size 432x288 with 1 Axes>"
      ]
     },
     "metadata": {
      "needs_background": "light"
     },
     "output_type": "display_data"
    }
   ],
   "source": [
    "import pandas as pd\n",
    "import matplotlib.pyplot as plt\n",
    "dl=pd.DataFrame({\"rating\":Acc})\n",
    "count=dl.rating.value_counts()\n",
    "print(count)\n",
    "bar=plt.bar(['Negative','Neutral','Positive'],count.sort_index(),color='green',width=0.25)\n",
    "plt.title('KMeans')\n",
    "plt.ylabel('Count')\n",
    "bar[0].set_color('r')\n",
    "bar[1].set_color('b')"
   ]
  },
  {
   "cell_type": "code",
   "execution_count": null,
   "metadata": {},
   "outputs": [],
   "source": [
    "#SVM Algorithm\n",
    "from sklearn import svm\n",
    "Svm=svm.SVC(kernel='poly', degree=3, C=1)\n",
    "M=Svm.fit(X_train,Y_train)"
   ]
  },
  {
   "cell_type": "code",
   "execution_count": null,
   "metadata": {},
   "outputs": [],
   "source": [
    "from sklearn import metrics\n",
    "predicted2=M.predict(X_test)\n",
    "accuracy=metrics.accuracy_score(predicted2,Y_test)\n",
    "print(str('{:04.2f}'.format(accuracy*100))+'%')"
   ]
  },
  {
   "cell_type": "code",
   "execution_count": null,
   "metadata": {},
   "outputs": [],
   "source": [
    "import pandas as pd\n",
    "import matplotlib.pyplot as plt\n",
    "dl=pd.DataFrame({\"rating\":predicted2})\n",
    "count=dl.rating.value_counts()\n",
    "print(count)\n",
    "bar=plt.bar(['Negative','Neutral','Positive'],count.sort_index(),color='green',width=0.25)\n",
    "plt.title('KMeans')\n",
    "plt.ylabel('Count')\n",
    "bar[0].set_color('r')\n",
    "bar[1].set_color('b')"
   ]
  },
  {
   "cell_type": "code",
   "execution_count": 16,
   "metadata": {},
   "outputs": [
    {
     "data": {
      "image/png": "[encoded data removed]",
      "text/plain": [
       "<Figure size 432x288 with 1 Axes>"
      ]
     },
     "metadata": {
      "needs_background": "light"
     },
     "output_type": "display_data"
    }
   ],
   "source": [
    "import matplotlib.pyplot as plt\n",
    "comp=plt.bar(['Navie Bayes','KMeans','SVM'],[accuracy_score*100,accuracy_kmeans*100,accuracy*100],width=0.50)\n",
    "plt.title('Comparision')\n",
    "comp[0].set_color('r')\n",
    "comp[1].set_color('y')\n",
    "comp[2].set_color('b')"
   ]
  },
  {
   "cell_type": "code",
   "execution_count": null,
   "metadata": {},
   "outputs": [],
   "source": []
  },
  {
   "cell_type": "code",
   "execution_count": null,
   "metadata": {},
   "outputs": [],
   "source": []
  }
 ],
 "metadata": {
  "kernelspec": {
   "display_name": "Python 3",
   "language": "python",
   "name": "python3"
  },
  "language_info": {
   "codemirror_mode": {
    "name": "ipython",
    "version": 3
   },
   "file_extension": ".py",
   "mimetype": "text/x-python",
   "name": "python",
   "nbconvert_exporter": "python",
   "pygments_lexer": "ipython3",
   "version": "3.8.5"
  }
 },
 "nbformat": 4,
 "nbformat_minor": 4
}
